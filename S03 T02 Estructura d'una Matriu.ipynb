{
 "cells": [
  {
   "cell_type": "markdown",
   "id": "c1981058",
   "metadata": {
    "solution": "shown"
   },
   "source": [
    " **Introduction:** We will work on the concepts of the structure of a matrix, dimension, axes and vectorization that allows us to reduce the use of for loops in arithmetic or mathematical operations."
   ]
  },
  {
   "cell_type": "markdown",
   "id": "82656393",
   "metadata": {
    "solution": "shown",
    "solution2": "shown",
    "solution2_first": true,
    "solution_first": true
   },
   "source": [
    "# Exercise 1"
   ]
  },
  {
   "cell_type": "markdown",
   "id": "b3032d49",
   "metadata": {
    "solution": "shown"
   },
   "source": [
    "**STATEMENT:** Creates an np.array of one dimension, including at least 8 integers, data type int64. Shows the size and shape of the array. ."
   ]
  },
  {
   "cell_type": "code",
   "execution_count": 27,
   "id": "eeba7b7c",
   "metadata": {
    "solution": "shown"
   },
   "outputs": [
    {
     "name": "stdout",
     "output_type": "stream",
     "text": [
      "<class 'list'>\n"
     ]
    },
    {
     "data": {
      "text/plain": [
       "array([ 10,  25,  30,  45,  50,  65,  70,  85,  90, 100])"
      ]
     },
     "execution_count": 27,
     "metadata": {},
     "output_type": "execute_result"
    }
   ],
   "source": [
    "#This magic function establish the matplot backend \n",
    "%matplotlib inline \n",
    "import numpy as np\n",
    "\n",
    "listOfNumbers=[10,25,30,45,50,65,70,85,90,100]\n",
    "print(type(listOfNumbers))\n",
    "\n",
    "#Convert a list to an array\n",
    "numpyList=np.array(listOfNumbers)\n",
    "numpyList"
   ]
  },
  {
   "cell_type": "code",
   "execution_count": 28,
   "id": "f9f4ae03",
   "metadata": {
    "code_folding": [],
    "scrolled": true,
    "solution": "shown"
   },
   "outputs": [
    {
     "data": {
      "text/plain": [
       "dtype('int64')"
      ]
     },
     "execution_count": 28,
     "metadata": {},
     "output_type": "execute_result"
    }
   ],
   "source": [
    "#we can know the type of data through dtype\n",
    "numpyList.dtype #Enters of 64 bits"
   ]
  },
  {
   "cell_type": "code",
   "execution_count": 30,
   "id": "433dfdf0",
   "metadata": {
    "code_folding": [],
    "solution": "shown"
   },
   "outputs": [
    {
     "data": {
      "text/plain": [
       "1"
      ]
     },
     "execution_count": 30,
     "metadata": {},
     "output_type": "execute_result"
    }
   ],
   "source": [
    "#Array's size\n",
    "numpyList.ndim"
   ]
  },
  {
   "cell_type": "code",
   "execution_count": 31,
   "id": "d1f2aedd",
   "metadata": {
    "code_folding": [],
    "solution": "shown"
   },
   "outputs": [
    {
     "data": {
      "text/plain": [
       "(10,)"
      ]
     },
     "execution_count": 31,
     "metadata": {},
     "output_type": "execute_result"
    }
   ],
   "source": [
    "#Array's shape\n",
    "numpyList.shape #10X1"
   ]
  },
  {
   "cell_type": "markdown",
   "id": "7cf826f3",
   "metadata": {
    "solution": "shown",
    "solution_first": true
   },
   "source": [
    "# Exercise 2"
   ]
  },
  {
   "cell_type": "markdown",
   "id": "e7b974a9",
   "metadata": {
    "solution": "shown"
   },
   "source": [
    "**STATEMENT:** From the matrix in Exercise 1, calculate the mean value of the values entered and subtract the average resulting from each of the values in the matrix."
   ]
  },
  {
   "cell_type": "code",
   "execution_count": 32,
   "id": "bdfa0607",
   "metadata": {
    "solution": "shown"
   },
   "outputs": [
    {
     "name": "stdout",
     "output_type": "stream",
     "text": [
      "[ 10  25  30  45  50  65  70  85  90 100]\n"
     ]
    }
   ],
   "source": [
    "numpyList=np.array([10,25,30,45,50,65,70,85,90,100])\n",
    "print(numpyList)"
   ]
  },
  {
   "cell_type": "code",
   "execution_count": 33,
   "id": "165d3d90",
   "metadata": {
    "solution": "shown"
   },
   "outputs": [
    {
     "name": "stdout",
     "output_type": "stream",
     "text": [
      "The mean of the arrayList is: 57.0\n",
      " \n",
      "The value of substracting 10 minus the mean 57.0 is: -47.0\n",
      "The value of substracting 25 minus the mean 57.0 is: -32.0\n",
      "The value of substracting 30 minus the mean 57.0 is: -27.0\n",
      "The value of substracting 45 minus the mean 57.0 is: -12.0\n",
      "The value of substracting 50 minus the mean 57.0 is: -7.0\n",
      "The value of substracting 65 minus the mean 57.0 is: 8.0\n",
      "The value of substracting 70 minus the mean 57.0 is: 13.0\n",
      "The value of substracting 85 minus the mean 57.0 is: 28.0\n",
      "The value of substracting 90 minus the mean 57.0 is: 33.0\n",
      "The value of substracting 100 minus the mean 57.0 is: 43.0\n"
     ]
    }
   ],
   "source": [
    "#Mean and substract the value from the mean\n",
    "x=numpyList.mean()\n",
    "print(\"The mean of the arrayList is: \" + str(x))\n",
    "\n",
    "print(\" \")\n",
    "\n",
    "for i in numpyList:\n",
    "    print(\"The value of substracting \" + str(i) + \" minus the mean \" + str(x) + \" is: \" + str(i-x))\n"
   ]
  },
  {
   "cell_type": "markdown",
   "id": "053960c1",
   "metadata": {
    "solution": "shown",
    "solution_first": true
   },
   "source": [
    "# Exercise 3"
   ]
  },
  {
   "cell_type": "markdown",
   "id": "84a599b6",
   "metadata": {
    "solution": "shown"
   },
   "source": [
    "**STATEMENT:** Create a bidimensional array with a shape of 5 x 5. Extract the maximum value of the array, and the maximum values of each of its axes."
   ]
  },
  {
   "cell_type": "code",
   "execution_count": 34,
   "id": "8d419bde",
   "metadata": {
    "solution": "shown"
   },
   "outputs": [
    {
     "data": {
      "text/plain": [
       "array([[ 0,  1,  2,  3,  4,  5],\n",
       "       [ 6,  7,  8,  9, 10, 11],\n",
       "       [12, 13, 14, 15, 16, 17],\n",
       "       [18, 19, 20, 21, 22, 23],\n",
       "       [24, 25, 26, 27, 28, 29]])"
      ]
     },
     "execution_count": 34,
     "metadata": {},
     "output_type": "execute_result"
    }
   ],
   "source": [
    "#First attempt\n",
    "\n",
    "arrayOf5=np.array([[0,1,2,3,4,5],[6,7,8,9,10,11],[12,13,14,15,16,17],[18,19,20,21,22,23],[24,25,26,27,28,29]])\n",
    "arrayOf5\n",
    "     "
   ]
  },
  {
   "cell_type": "code",
   "execution_count": 35,
   "id": "c1c486bb",
   "metadata": {
    "code_folding": [],
    "solution": "shown"
   },
   "outputs": [
    {
     "data": {
      "text/plain": [
       "[[7, 2, 90, 8, 48],\n",
       " [21, 34, 28, 86, 17],\n",
       " [52, 8, 59, 45, 59],\n",
       " [29, 13, 74, 79, 76],\n",
       " [4, 17, 28, 56, 80]]"
      ]
     },
     "execution_count": 35,
     "metadata": {},
     "output_type": "execute_result"
    }
   ],
   "source": [
    "#Second attempt\n",
    "from random import randint\n",
    "\n",
    "def fillArray(n):\n",
    "    array=[]\n",
    "    \n",
    "    for i in range(n):\n",
    "        row=[]\n",
    "        \n",
    "        for j in range(n):\n",
    "            row.append(randint(1,100))\n",
    "                       \n",
    "        array.append(row)\n",
    "    \n",
    "    return array\n",
    "                       \n",
    "finalArray= fillArray(5)\n",
    "\n",
    "finalArray\n",
    "        "
   ]
  },
  {
   "cell_type": "code",
   "execution_count": 36,
   "id": "1897afaf",
   "metadata": {
    "solution": "shown"
   },
   "outputs": [
    {
     "name": "stdout",
     "output_type": "stream",
     "text": [
      "The maximum value of the arrayList is: 29\n",
      "The maximum value of the arrayList is: 90\n"
     ]
    }
   ],
   "source": [
    "#Maximum value\n",
    "maxValue=np.max(arrayOf5)\n",
    "print(\"The maximum value of the arrayList is: \" + str(maxValue))\n",
    "maxValue2=np.max(finalArray)\n",
    "print(\"The maximum value of the arrayList is: \" + str(maxValue2))"
   ]
  },
  {
   "cell_type": "code",
   "execution_count": 65,
   "id": "1085662f",
   "metadata": {
    "solution": "shown"
   },
   "outputs": [
    {
     "name": "stdout",
     "output_type": "stream",
     "text": [
      "[ 5 11 17 23 29]\n",
      "\n",
      "[90 86 59 79 80]\n"
     ]
    }
   ],
   "source": [
    "# Maximum value of each axle\n",
    "maxValueAxle=np.amax(arrayOf5, axis=1)\n",
    "print(maxValueAxle)\n",
    "\n",
    "print()\n",
    "\n",
    "maxValueAxle=np.amax(finalArray, axis=1)\n",
    "print(maxValueAxle)"
   ]
  },
  {
   "cell_type": "markdown",
   "id": "6dd92173",
   "metadata": {
    "solution": "shown",
    "solution_first": true
   },
   "source": [
    "# Exercise 4"
   ]
  },
  {
   "cell_type": "markdown",
   "id": "05eacb36",
   "metadata": {
    "solution": "shown"
   },
   "source": [
    "We work on the concepts of the structure of an array, Broadcasting, Indexing, Mask ..\n",
    "\n",
    "**STATEMENT:** Show me with examples of different arrays, the fundamental rule of Broadcasting that says, \"arrays can be transmitted / broadcast if their dimensions match or if one of the arrays has a size of 1.\""
   ]
  },
  {
   "cell_type": "code",
   "execution_count": 38,
   "id": "ed13bb9e",
   "metadata": {
    "solution": "shown"
   },
   "outputs": [
    {
     "name": "stdout",
     "output_type": "stream",
     "text": [
      "The shape of array X: (3, 3)\n",
      "The shape of array Y: (3, 1)\n",
      "The shape of array Z: (3,)\n",
      "\n",
      "ArrayX= \n",
      "[[17 14 14]\n",
      " [12 12 10]\n",
      " [18 15 11]]\n",
      "\n",
      "ArrayY= \n",
      "[[14]\n",
      " [19]\n",
      " [15]]\n",
      "\n",
      "ArrayZ= \n",
      "[19 17 18]\n",
      "\n"
     ]
    }
   ],
   "source": [
    "# we are going to work with 3 arrays of different size\n",
    "\n",
    "import numpy as np\n",
    "\n",
    "arrayX= np.random.randint(low=10,high=20, size=(3,3))\n",
    "arrayY= np.random.randint(low=10,high=20, size=(3,1))\n",
    "arrayZ= np.random.randint(low=10,high=20, size=(3))\n",
    "\n",
    "print(\"The shape of array X:\", arrayX.shape)\n",
    "print(\"The shape of array Y:\", arrayY.shape)\n",
    "print(\"The shape of array Z:\", arrayZ.shape)\n",
    "print()\n",
    "#Print them out\n",
    "\n",
    "print(\"ArrayX= \")\n",
    "print(arrayX)\n",
    "print()\n",
    "\n",
    "print(\"ArrayY= \")\n",
    "print(arrayY)\n",
    "print()\n",
    "\n",
    "print(\"ArrayZ= \")\n",
    "print(arrayZ)\n",
    "print()"
   ]
  },
  {
   "cell_type": "markdown",
   "id": "6cb8b8b0",
   "metadata": {
    "solution": "shown"
   },
   "source": [
    "**_BROADCASTING_**"
   ]
  },
  {
   "cell_type": "code",
   "execution_count": 39,
   "id": "b81d3b4b",
   "metadata": {
    "solution": "shown"
   },
   "outputs": [
    {
     "name": "stdout",
     "output_type": "stream",
     "text": [
      "X+Y= \n",
      " [[31 28 28]\n",
      " [31 31 29]\n",
      " [33 30 26]]\n"
     ]
    }
   ],
   "source": [
    "#Case 1 (X+Y) -> X + [Y,Y,Y]\n",
    "print(\"X+Y= \\n\", arrayX+arrayY) #Suma elemento a elemento con Broadcasting\n"
   ]
  },
  {
   "cell_type": "code",
   "execution_count": 40,
   "id": "3ce6caab",
   "metadata": {
    "solution": "shown"
   },
   "outputs": [
    {
     "name": "stdout",
     "output_type": "stream",
     "text": [
      "X+Z= \n",
      " [[36 31 32]\n",
      " [31 29 28]\n",
      " [37 32 29]]\n"
     ]
    }
   ],
   "source": [
    "#Case 2 (X+Z) -> X + [Z\\n + Z\\n + Z\\n]\n",
    "print(\"X+Z= \\n\", arrayX+arrayZ)\n"
   ]
  },
  {
   "cell_type": "code",
   "execution_count": 57,
   "id": "6ea5500a",
   "metadata": {
    "solution": "shown"
   },
   "outputs": [
    {
     "name": "stdout",
     "output_type": "stream",
     "text": [
      "[0 1 2 3] \n",
      "\n",
      "[[0]\n",
      " [1]\n",
      " [2]\n",
      " [3]] \n",
      "\n",
      "[[0 1 2 3]] \n",
      "\n",
      "[[0 0 0 0]\n",
      " [0 1 2 3]\n",
      " [0 2 4 6]\n",
      " [0 3 6 9]] \n",
      "\n",
      "[[0 0 0 0]\n",
      " [0 1 2 3]\n",
      " [0 2 4 6]\n",
      " [0 3 6 9]] \n",
      "\n"
     ]
    }
   ],
   "source": [
    "#Case 3\n",
    "arrayY=np.array(range(0,4))\n",
    "print(arrayY, \"\\n\")\n",
    "\n",
    "newY=arrayY.reshape((arrayY.shape[0],1)) #Change from horizontal to vertical\n",
    "print(newY, \"\\n\")\n",
    "\n",
    "newArrayZ=np.array([range(0,4)])\n",
    "print(newArrayZ,\"\\n\")\n",
    "\n",
    "#Y is a row and Z is a column, the broadcasting is working\n",
    "w= newY*newArrayZ\n",
    "print(w, \"\\n\")\n",
    "\n",
    "#The same happens if we revert the last situation \n",
    "a= newArrayZ*newY\n",
    "print(a,\"\\n\")"
   ]
  },
  {
   "cell_type": "markdown",
   "id": "257f7156",
   "metadata": {
    "solution": "shown",
    "solution_first": true
   },
   "source": [
    "# Exercise 5"
   ]
  },
  {
   "cell_type": "markdown",
   "id": "80065e5a",
   "metadata": {
    "solution": "shown"
   },
   "source": [
    "**STATEMENT:** Use Indexing to extract the values of a column and a row from the array. And add up their values."
   ]
  },
  {
   "cell_type": "code",
   "execution_count": 60,
   "id": "0efb6299",
   "metadata": {
    "solution": "shown"
   },
   "outputs": [
    {
     "name": "stdout",
     "output_type": "stream",
     "text": [
      "[[74  7 72 32 18]\n",
      " [47 75 90  3  0]\n",
      " [ 9 52 51 57 74]\n",
      " [95 98 12 54 10]\n",
      " [58 40 59 62 30]]\n",
      "\n",
      " The number of the second row and forth columns is:  3\n",
      "\n",
      " The number of the forth row and fith columns is:  10\n"
     ]
    }
   ],
   "source": [
    "#A random array 5x5\n",
    "randomArray= np.random.randint(low=0, high=100, size=(5,5))\n",
    "print(randomArray)\n",
    "\n",
    "#Access to different number:\n",
    "print(\"\\n The number of the second row and forth columns is: \", randomArray[1,3])\n",
    "print(\"\\n The number of the forth row and fith columns is: \", randomArray[3,4])"
   ]
  },
  {
   "cell_type": "code",
   "execution_count": 61,
   "id": "b98db445",
   "metadata": {
    "solution": "shown"
   },
   "outputs": [
    {
     "name": "stdout",
     "output_type": "stream",
     "text": [
      "Access row 3: \n",
      " [ 9 52 51 57 74] \n",
      "\n",
      "Access row 5: \n",
      " [58 40 59 62 30] \n",
      "\n",
      "Access colum 2: \n",
      " [ 7 75 52 98 40] \n",
      "\n",
      "Access colum 5: \n",
      " [18  0 74 10 30] \n",
      "\n",
      "The sum of row 3  [ 9 52 51 57 74]  with column 1  [ 7 75 52 98 40] is: \n",
      " [ 16 127 103 155 114] \n",
      "\n",
      "The sum of row 5  [58 40 59 62 30]  with column 5  [18  0 74 10 30] is: \n",
      " [ 76  40 133  72  60]\n"
     ]
    }
   ],
   "source": [
    "#Extract the values of a column and a row from randomArray\n",
    "\n",
    "#ROWS\n",
    "print(\"Access row 3: \\n\" ,randomArray[2],\"\\n\")\n",
    "print(\"Access row 5: \\n\", randomArray[4,...], \"\\n\")\n",
    "\n",
    "#COLUMNS\n",
    "print(\"Access colum 2: \\n\",randomArray[:,1],\"\\n\")\n",
    "print(\"Access colum 5: \\n\",randomArray[...,4],\"\\n\") #There are two diferent methods\n",
    "#Sum of values\n",
    "\n",
    "print(\"The sum of row 3 \",randomArray[2], \" with column 1 \", randomArray[:,1], \"is: \\n\",randomArray[2]+randomArray[:,1],\"\\n\")\n",
    "print(\"The sum of row 5 \",randomArray[4,...], \" with column 5 \", randomArray[...,4], \"is: \\n\",randomArray[4,...]+randomArray[...,4])"
   ]
  },
  {
   "cell_type": "markdown",
   "id": "57396a12",
   "metadata": {
    "solution": "shown",
    "solution_first": true
   },
   "source": [
    "# Exercise 6"
   ]
  },
  {
   "cell_type": "markdown",
   "id": "669054a5",
   "metadata": {
    "solution": "shown"
   },
   "source": [
    "**STATEMENT:** Mask the above matrix, perform a vectorized Boolean calculation, taking each element and checking if it is evenly divided by four."
   ]
  },
  {
   "cell_type": "code",
   "execution_count": 62,
   "id": "032635e0",
   "metadata": {
    "solution": "shown"
   },
   "outputs": [
    {
     "name": "stdout",
     "output_type": "stream",
     "text": [
      "The current array is:\n",
      " [[74  7 72 32 18]\n",
      " [47 75 90  3  0]\n",
      " [ 9 52 51 57 74]\n",
      " [95 98 12 54 10]\n",
      " [58 40 59 62 30]]\n",
      "\n",
      " The boolean Array masked is: \n",
      " [[False False  True  True False]\n",
      " [False False False False  True]\n",
      " [False  True False False False]\n",
      " [False False  True False False]\n",
      " [False  True False False False]]\n"
     ]
    }
   ],
   "source": [
    "#How can we do a vectorized boolean calculation from my last array\n",
    "print(\"The current array is:\\n\",randomArray)\n",
    "\n",
    "#We do it taking each element from the array and check is it's divisible by four\n",
    "maskRandomArray=(randomArray%4)==0 #The remainder after division by 4 is equal to zero\n",
    "print(\"\\n The boolean Array masked is: \\n\", maskRandomArray) #We have created an array of boolean values\n"
   ]
  },
  {
   "cell_type": "markdown",
   "id": "185a500c",
   "metadata": {
    "solution": "shown",
    "solution_first": true
   },
   "source": [
    "# Exercise 7"
   ]
  },
  {
   "cell_type": "markdown",
   "id": "41a80c8f",
   "metadata": {
    "solution": "shown"
   },
   "source": [
    "**STATEMENT:** Then use this mask to index the original number array. This causes the array to lose its original shape, reducing it to one dimension, but you still get the data you are looking for."
   ]
  },
  {
   "cell_type": "code",
   "execution_count": 63,
   "id": "0a2ab6b1",
   "metadata": {
    "solution": "shown"
   },
   "outputs": [
    {
     "data": {
      "text/plain": [
       "array([72, 32,  0, 52, 12, 40])"
      ]
     },
     "execution_count": 63,
     "metadata": {},
     "output_type": "execute_result"
    }
   ],
   "source": [
    "#Return the array only with the numbers divisibles by four\n",
    "arrayDivisibleByFour=randomArray[maskRandomArray]\n",
    "arrayDivisibleByFour"
   ]
  },
  {
   "cell_type": "markdown",
   "id": "895d4fa1",
   "metadata": {},
   "source": [
    "# Exercise 8"
   ]
  },
  {
   "cell_type": "markdown",
   "id": "1b989c6e",
   "metadata": {},
   "source": [
    "**STATEMENT:** \n",
    "   - Show me to see what happens when we remove the Green G or Blue B channel.\n",
    "\n",
    "   - Show me to see what happens when we remove the Green G or Blue B channel. You should use      indexing to select the channel you want to undo.\n",
    "\n",
    "   - Use the method, mpimg.imsave () of the imported library, to save the modified images and      you will need to upload them to your repository on github."
   ]
  },
  {
   "cell_type": "code",
   "execution_count": 46,
   "id": "e5baba4e",
   "metadata": {},
   "outputs": [],
   "source": [
    "import matplotlib.pyplot as plt # plt is used for show images\n",
    "import matplotlib.image as mpimg #mpimg is used for read image\n",
    "import numpy as np #We continue working with numpy"
   ]
  },
  {
   "cell_type": "markdown",
   "id": "08bf203b",
   "metadata": {},
   "source": [
    "**LOAD**"
   ]
  },
  {
   "cell_type": "code",
   "execution_count": 47,
   "id": "7c665ca1",
   "metadata": {},
   "outputs": [
    {
     "name": "stdout",
     "output_type": "stream",
     "text": [
      "Height(R), WIDTH(G), CHANNEL (B)\n",
      " (400, 1200, 3)\n",
      "\n",
      "Height(R), WIDTH(G), CHANNEL (B)\n",
      " (152, 332, 4)\n"
     ]
    }
   ],
   "source": [
    "#FIRST IMAGE \n",
    "\n",
    "pythonImage=mpimg.imread(\"/Users/adrianova/Desktop/Data Science/Python/IT Academy - Python/SPRINT 3 - Estructura de dades/S03 T02 Estructura d'una Matriu/images/Python.jpeg\")\n",
    "#Now, pythonImage is a np.array, you can process the image arbitrarily\n",
    "print(\"Height(R), WIDTH(G), CHANNEL (B)\\n\",pythonImage.shape)\n",
    "print()\n",
    "\n",
    "#SECOND IMAGE\n",
    "\n",
    "deskpotImage=mpimg.imread(\"/Users/adrianova/Desktop/Data Science/Python/IT Academy - Python/SPRINT 3 - Estructura de dades/S03 T02 Estructura d'una Matriu/images/programation.png\")\n",
    "print(\"Height(R), WIDTH(G), CHANNEL (B)\\n\",deskpotImage.shape)"
   ]
  },
  {
   "cell_type": "markdown",
   "id": "3ec5861d",
   "metadata": {},
   "source": [
    "**SHOW**"
   ]
  },
  {
   "cell_type": "code",
   "execution_count": 48,
   "id": "8779d2ac",
   "metadata": {},
   "outputs": [
    {
     "data": {
      "image/png": "[encoded data removed]",
      "text/plain": [
       "<Figure size 432x288 with 1 Axes>"
      ]
     },
     "metadata": {
      "needs_background": "light"
     },
     "output_type": "display_data"
    },
    {
     "data": {
      "image/png": "[encoded data removed]",
      "text/plain": [
       "<Figure size 432x288 with 1 Axes>"
      ]
     },
     "metadata": {
      "needs_background": "light"
     },
     "output_type": "display_data"
    }
   ],
   "source": [
    "#FIRST IMAGE \n",
    "\n",
    "plt.imshow(pythonImage) #Show the image\n",
    "plt.axis(\"off\") #don't show the axle\n",
    "plt.show()\n",
    "\n",
    "#SECOND IMAGE\n",
    "plt.imshow(deskpotImage)\n",
    "plt.axis(\"off\")\n",
    "plt.show()"
   ]
  },
  {
   "cell_type": "markdown",
   "id": "e93c36af",
   "metadata": {},
   "source": [
    "**MODIFY THE IMAGES**"
   ]
  },
  {
   "cell_type": "code",
   "execution_count": 66,
   "id": "36d349d7",
   "metadata": {},
   "outputs": [
    {
     "ename": "IndexError",
     "evalue": "index 200 is out of bounds for axis 0 with size 152",
     "output_type": "error",
     "traceback": [
      "\u001b[0;31m---------------------------------------------------------------------------\u001b[0m",
      "\u001b[0;31mIndexError\u001b[0m                                Traceback (most recent call last)",
      "\u001b[0;32m<ipython-input-66-41a199463652>\u001b[0m in \u001b[0;36m<module>\u001b[0;34m\u001b[0m\n\u001b[1;32m     16\u001b[0m \u001b[0;34m\u001b[0m\u001b[0m\n\u001b[1;32m     17\u001b[0m \u001b[0;31m#We will only use the color green\u001b[0m\u001b[0;34m\u001b[0m\u001b[0;34m\u001b[0m\u001b[0;34m\u001b[0m\u001b[0m\n\u001b[0;32m---> 18\u001b[0;31m \u001b[0mplt\u001b[0m\u001b[0;34m.\u001b[0m\u001b[0mimshow\u001b[0m\u001b[0;34m(\u001b[0m\u001b[0mdeskpotImage\u001b[0m\u001b[0;34m[\u001b[0m\u001b[0;36m200\u001b[0m\u001b[0;34m,\u001b[0m\u001b[0;36m800\u001b[0m\u001b[0;34m,\u001b[0m\u001b[0;36m1\u001b[0m\u001b[0;34m]\u001b[0m\u001b[0;34m)\u001b[0m\u001b[0;34m\u001b[0m\u001b[0;34m\u001b[0m\u001b[0m\n\u001b[0m\u001b[1;32m     19\u001b[0m \u001b[0mplt\u001b[0m\u001b[0;34m.\u001b[0m\u001b[0mtitle\u001b[0m\u001b[0;34m(\u001b[0m\u001b[0;34m\"Green channel\"\u001b[0m\u001b[0;34m)\u001b[0m\u001b[0;34m\u001b[0m\u001b[0;34m\u001b[0m\u001b[0m\n\u001b[1;32m     20\u001b[0m \u001b[0mplt\u001b[0m\u001b[0;34m.\u001b[0m\u001b[0mfigure\u001b[0m\u001b[0;34m(\u001b[0m\u001b[0;34m)\u001b[0m\u001b[0;34m\u001b[0m\u001b[0;34m\u001b[0m\u001b[0m\n",
      "\u001b[0;31mIndexError\u001b[0m: index 200 is out of bounds for axis 0 with size 152"
     ]
    },
    {
     "data": {
      "image/png": "[encoded data removed]",
      "text/plain": [
       "<Figure size 432x288 with 1 Axes>"
      ]
     },
     "metadata": {
      "needs_background": "light"
     },
     "output_type": "display_data"
    },
    {
     "data": {
      "image/png": "[encoded data removed]",
      "text/plain": [
       "<Figure size 432x288 with 1 Axes>"
      ]
     },
     "metadata": {
      "needs_background": "light"
     },
     "output_type": "display_data"
    },
    {
     "data": {
      "text/plain": [
       "<Figure size 432x288 with 0 Axes>"
      ]
     },
     "metadata": {},
     "output_type": "display_data"
    }
   ],
   "source": [
    "#FIRST IMAGE \n",
    "\n",
    "#We will only use the color red\n",
    "plt.imshow(pythonImage[:,:,0])\n",
    "plt.title(\"Red channel\")\n",
    "plt.figure()\n",
    "\n",
    "#We eliminate the green channel\n",
    "pythonImage2=np.copy(pythonImage)\n",
    "pythonImage2[:,:,1]=0 #Removing color green\n",
    "plt.title(\"New Photo Without Green Channel\")\n",
    "plt.imshow(pythonImage2)\n",
    "plt.figure()\n",
    "\n",
    "#SECOND IMAGE\n",
    "\n",
    "#We will only use the color green\n",
    "plt.imshow(deskpotImage[200,800,1])\n",
    "plt.title(\"Green channel\")\n",
    "plt.figure()\n",
    "\n",
    "#We eliminate the blue channel\n",
    "deskpotImage2=np.copy(deskpotImage)\n",
    "deskpotImage2[:,:,2]=0 #Removing color blue\n",
    "plt.title(\"New Photo Without Blue Channel\")\n",
    "plt.imshow(deskpotImage2)\n"
   ]
  },
  {
   "cell_type": "markdown",
   "id": "353e382b",
   "metadata": {},
   "source": [
    "**SAVE**"
   ]
  },
  {
   "cell_type": "code",
   "execution_count": 50,
   "id": "6f1f73a9",
   "metadata": {},
   "outputs": [],
   "source": [
    "#FIRST IMAGE\n",
    "mpimg.imsave(\"/Users/adrianova/Desktop/Data Science/Python/IT Academy - Python/SPRINT 3 - Estructura de dades/S03 T02 Estructura d'una Matriu/images/pythonImage2.png\",pythonImage2)\n",
    "\n",
    "#SECOND IMAGE\n",
    "mpimg.imsave(\"/Users/adrianova/Desktop/Data Science/Python/IT Academy - Python/SPRINT 3 - Estructura de dades/S03 T02 Estructura d'una Matriu/images/deskpotImage2.png\",deskpotImage2)"
   ]
  }
 ],
 "metadata": {
  "kernelspec": {
   "display_name": "Python 3",
   "language": "python",
   "name": "python3"
  },
  "language_info": {
   "codemirror_mode": {
    "name": "ipython",
    "version": 3
   },
   "file_extension": ".py",
   "mimetype": "text/x-python",
   "name": "python",
   "nbconvert_exporter": "python",
   "pygments_lexer": "ipython3",
   "version": "3.8.8"
  },
  "toc": {
   "base_numbering": 1,
   "nav_menu": {},
   "number_sections": false,
   "sideBar": true,
   "skip_h1_title": false,
   "title_cell": "Table of Contents",
   "title_sidebar": "Contents",
   "toc_cell": false,
   "toc_position": {
    "height": "calc(100% - 180px)",
    "left": "10px",
    "top": "150px",
    "width": "165px"
   },
   "toc_section_display": true,
   "toc_window_display": true
  }
 },
 "nbformat": 4,
 "nbformat_minor": 5
}
